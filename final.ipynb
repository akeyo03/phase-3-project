{
 "cells": [
  {
   "cell_type": "markdown",
   "metadata": {},
   "source": [
    "# Diabetes Prediction in Mothers "
   ]
  },
  {
   "cell_type": "markdown",
   "metadata": {},
   "source": [
    "## Introduction"
   ]
  },
  {
   "cell_type": "markdown",
   "metadata": {},
   "source": [
    "Diabetes is a chronic metabolic disease which is characterized by elevated levels of blood sugar, which over time to serious damage to the heart, blood vessels, eyes, kidneys and nerves.\n",
    "There are two types of of diabetes type 1 and type 2 diabetes.\n",
    "Type 2 diabetes is when the body becomes resistant to insulin or doesn't make enough insulin.\n",
    "Type 1 diabetes is when the pancreas produces little or no insulin by itself."
   ]
  },
  {
   "cell_type": "markdown",
   "metadata": {},
   "source": [
    "## Business Understanding"
   ]
  },
  {
   "cell_type": "markdown",
   "metadata": {},
   "source": [
    "### Background"
   ]
  },
  {
   "cell_type": "markdown",
   "metadata": {},
   "source": [
    "In introduction we were briefly intoduced to what diabetes is and the most common types of diabetes which is type 1 and type 2 diabetes.\n",
    "In this section, we will further undertand what type of diabetes mostly affect pregnant mothers or women who have children already and the effect on their children.\n",
    "First we look at diabetes that affect mothers and pregnant women and its effect on the children:\n",
    "\n",
    "1. Gestational diabetes\n",
    "\n",
    "This a form of diabetes that occurs when the blood sugar levels become elevated during pregnancy between the 24th and 28th weeks of pregnancy.\n",
    "It is caused by hormonal changes during pregnancy that interfere with the body's ability to produce or use insulin.\n",
    "\n",
    "Risk factors:\n",
    "\n",
    "a. Overweight\n",
    "\n",
    "b. Family history of diabetes\n",
    "\n",
    "c. Age over 25\n",
    "\n",
    "d. Certain ethnicities\n",
    "\n",
    "Risks for the mother:\n",
    "\n",
    " a. Increased risk of preeclampsia (a serious condition   affecting blood pressure)\n",
    "\n",
    " b. Higher chance of cesarean section\n",
    "\n",
    " c. Increased risk of type 2 diabetes later in life  \n",
    "\n",
    "  Risks for the baby:\n",
    "  \n",
    "a. Macrosomia(baby is born significantly larger than average)\n",
    "\n",
    "b. Hypoglycemia after birth(the blood sugar level drops too low)\n",
    "\n",
    "c. Increased risk of respiratory distress syndrome\n",
    "\n",
    "d. Higher risk of developing type 2 diabetes\n",
    "\n",
    "2.  Type 1 diabetes\n",
    "\n",
    "This is an autoimmune condition where the body's immune system attacks the pancreas.\n",
    "\n",
    "Risks for the mother:\n",
    "\n",
    "a. Increased risk of preeclampsia.\n",
    "\n",
    "b. Higher risk of miscarriage.\n",
    "\n",
    "c. Increased risk of birth defects.\n",
    "\n",
    "d. Higher risk of preterm labor.\n",
    "\n",
    "Risks for the baby:\n",
    "\n",
    "a. Macrosomia(baby is born significantly larger than average)\n",
    "\n",
    "b. Hypoglycemia after birth(the blood sugar level drops too low)\n",
    "\n",
    "c. Increased risk of respiratory distress syndrome\n",
    "\n",
    "d. Higher risk of developing type 1 diabetes\n",
    "\n",
    "3. Type 2 diabetes \n",
    "\n",
    "A condition characterized by insulin resistance and insufficient insulin production.\n",
    "\n",
    "Risks for the mother:\n",
    "\n",
    "a. Increased risk of preeclampsia.\n",
    "\n",
    "b. Higher risk of miscarriage.\n",
    "\n",
    "c. Increased risk of birth defects.\n",
    "\n",
    "d. Higher risk of preterm labor.\n",
    "\n",
    "Risks for the baby:\n",
    "\n",
    "a. Macrosomia(baby is born significantly larger than average)\n",
    "\n",
    "b. Hypoglycemia after birth(the blood sugar level drops too low)\n",
    "\n",
    "c. Increased risk of respiratory distress syndrome\n",
    "\n",
    "d. Higher risk of developing type 2 diabetes"
   ]
  },
  {
   "cell_type": "markdown",
   "metadata": {},
   "source": [
    "### Problem  Statement"
   ]
  },
  {
   "cell_type": "markdown",
   "metadata": {},
   "source": [
    "As described in the background mothers are at high risk of developing the different forms of diabetes mentioned above and the we have also seen the risks and complications on both mother and child, from factors mentioned such as weight, genetics age and ethnicity.\n",
    "The challenge is to effectively identify mothers who are high risk of developing diabetes and provide actionable ways for them to manage it and prevent complications during pregnancies.\n",
    "\n",
    "To address this challenge a logistic regression model can be developed to predict the likelihood of a woman developing diabetes based on relevant features highlighted from the research. This model would enable healthcare providers to identify high-risk individuals early on and offer targeted interventions to improve maternal and child health outcomes.\n"
   ]
  },
  {
   "cell_type": "markdown",
   "metadata": {},
   "source": [
    "### Objectives\n",
    "1.\tCreate a model that can be used to predict mothers at risk of diabetes based on the features provided in the dataset.\n",
    "\n",
    "2.\tBy creating the model will be able to see if it can be used on unseen data to predict women or mothers at risk of diabetes.\n",
    "\n",
    "3.\tBy creating the model, it helps us improve early detection of diabetes in mothers and allows us to provide measures to be used to manage the diabetes and prevent complications during pregnancies\n",
    ".\n",
    "4.\tThe model will allow us to prioritize resource allocations in hospitals for mothers who have diabetes and prevent resource wastage on women who do not have diabetes.\n",
    "\n",
    "5. The model will allow us to better understand the factors influencing the development of diabetes in mothers during and after pregnancy\n"
   ]
  },
  {
   "cell_type": "markdown",
   "metadata": {},
   "source": [
    "### Stakeholders and Implications "
   ]
  },
  {
   "cell_type": "markdown",
   "metadata": {},
   "source": [
    "1. Healthcare providers\n",
    "\n",
    "This involves the hospital in general and the general practioners such as gynecologists and obstetricians.\n",
    "Implication - They can use the model to identify women who are at high-risk of developing diabetes and follow a suitable approach to manage it and prevent complications in function if fall pregnant.\n",
    "\n",
    "2. Patients\n",
    "\n",
    "This mainly includes mothers who are at high risk of diabetes or those who have already have diabetes.\n",
    "Implication - Enables them to be aware of their situation and enable them to manage it outside the hospital with the help of family members. This helps them to prevent complications if they conceive in the future.\n",
    "\n",
    "3. Health Insurance Companies\n",
    "\n",
    "Use the model to assess the risk of diabetes-related complications and adjust insurance premiums accordingly.\n",
    "Implication - The model can help identify populations at high risk for diabetes-related expenses, enabling targeted prevention programs and risk management strategies.\n",
    "\n",
    "4. Health policy makers\n",
    "\n",
    "The model enables them to identify the number of women in the area who are at high risk of developing diabetes during or after pregnancy. \n",
    "Implication - This can enable them to preserve resources to be allocated in this situation and spread awareness about diabetes in prevention and management programs."
   ]
  },
  {
   "cell_type": "markdown",
   "metadata": {},
   "source": [
    "### Conclusion\n",
    "\n",
    "From the background we have learnt about the different types of diabetes which include gestational diabetes, type 1, type 2 diabetes and the risk and complications implicted on the mothers and the children if not managed or treated properly.\n",
    "We also discovered a technical of identifying mothers with diabetes by creating a model that can be able to identify women who have diabetes or at high risk of getting it from the ones who do not through certain factors that can cause it.\n",
    "We also identified different stakeholders of this project and the implications of this project to them"
   ]
  },
  {
   "cell_type": "markdown",
   "metadata": {},
   "source": [
    "## Data Understanding"
   ]
  },
  {
   "cell_type": "markdown",
   "metadata": {},
   "source": [
    "### Data Source\n",
    "The dataset is a healthcare diabetes dataset that was extracted from kaggle https://www.kaggle.com/datasets/nanditapore/healthcare-diabetes.\n",
    "\n",
    "The importance of this dataset is contains columns such as blood pressure, insulin, glucose, body mass index, number of times of pregnant for a mother as these are factors that can be used to investigate presence of diabetes in an individual depending on the level of each of the factors in the human body.\n",
    "If the level of glucose is above average this can lead to gestational diabetes in pregnant women and type 2 diabetes.\n",
    "If the level of insulin is lower than average this can lead to type 1 diabetes.\n",
    "The dataset enables us to identify the appropriate levels required in terms of the features in dataset to conclude either an individual has diabetes or not."
   ]
  },
  {
   "cell_type": "markdown",
   "metadata": {},
   "source": [
    "### Dataset size, Information and Descriptive statistics"
   ]
  },
  {
   "cell_type": "code",
   "execution_count": 1,
   "metadata": {},
   "outputs": [
    {
     "data": {
      "text/html": [
       "<div>\n",
       "<style scoped>\n",
       "    .dataframe tbody tr th:only-of-type {\n",
       "        vertical-align: middle;\n",
       "    }\n",
       "\n",
       "    .dataframe tbody tr th {\n",
       "        vertical-align: top;\n",
       "    }\n",
       "\n",
       "    .dataframe thead th {\n",
       "        text-align: right;\n",
       "    }\n",
       "</style>\n",
       "<table border=\"1\" class=\"dataframe\">\n",
       "  <thead>\n",
       "    <tr style=\"text-align: right;\">\n",
       "      <th></th>\n",
       "      <th>Id</th>\n",
       "      <th>Pregnancies</th>\n",
       "      <th>Glucose</th>\n",
       "      <th>BloodPressure</th>\n",
       "      <th>SkinThickness</th>\n",
       "      <th>Insulin</th>\n",
       "      <th>BMI</th>\n",
       "      <th>DiabetesPedigreeFunction</th>\n",
       "      <th>Age</th>\n",
       "      <th>Outcome</th>\n",
       "    </tr>\n",
       "  </thead>\n",
       "  <tbody>\n",
       "    <tr>\n",
       "      <th>0</th>\n",
       "      <td>1</td>\n",
       "      <td>6</td>\n",
       "      <td>148</td>\n",
       "      <td>72</td>\n",
       "      <td>35</td>\n",
       "      <td>0</td>\n",
       "      <td>33.6</td>\n",
       "      <td>0.627</td>\n",
       "      <td>50</td>\n",
       "      <td>1</td>\n",
       "    </tr>\n",
       "    <tr>\n",
       "      <th>1</th>\n",
       "      <td>2</td>\n",
       "      <td>1</td>\n",
       "      <td>85</td>\n",
       "      <td>66</td>\n",
       "      <td>29</td>\n",
       "      <td>0</td>\n",
       "      <td>26.6</td>\n",
       "      <td>0.351</td>\n",
       "      <td>31</td>\n",
       "      <td>0</td>\n",
       "    </tr>\n",
       "    <tr>\n",
       "      <th>2</th>\n",
       "      <td>3</td>\n",
       "      <td>8</td>\n",
       "      <td>183</td>\n",
       "      <td>64</td>\n",
       "      <td>0</td>\n",
       "      <td>0</td>\n",
       "      <td>23.3</td>\n",
       "      <td>0.672</td>\n",
       "      <td>32</td>\n",
       "      <td>1</td>\n",
       "    </tr>\n",
       "    <tr>\n",
       "      <th>3</th>\n",
       "      <td>4</td>\n",
       "      <td>1</td>\n",
       "      <td>89</td>\n",
       "      <td>66</td>\n",
       "      <td>23</td>\n",
       "      <td>94</td>\n",
       "      <td>28.1</td>\n",
       "      <td>0.167</td>\n",
       "      <td>21</td>\n",
       "      <td>0</td>\n",
       "    </tr>\n",
       "    <tr>\n",
       "      <th>4</th>\n",
       "      <td>5</td>\n",
       "      <td>0</td>\n",
       "      <td>137</td>\n",
       "      <td>40</td>\n",
       "      <td>35</td>\n",
       "      <td>168</td>\n",
       "      <td>43.1</td>\n",
       "      <td>2.288</td>\n",
       "      <td>33</td>\n",
       "      <td>1</td>\n",
       "    </tr>\n",
       "  </tbody>\n",
       "</table>\n",
       "</div>"
      ],
      "text/plain": [
       "   Id  Pregnancies  Glucose  BloodPressure  SkinThickness  Insulin   BMI  \\\n",
       "0   1            6      148             72             35        0  33.6   \n",
       "1   2            1       85             66             29        0  26.6   \n",
       "2   3            8      183             64              0        0  23.3   \n",
       "3   4            1       89             66             23       94  28.1   \n",
       "4   5            0      137             40             35      168  43.1   \n",
       "\n",
       "   DiabetesPedigreeFunction  Age  Outcome  \n",
       "0                     0.627   50        1  \n",
       "1                     0.351   31        0  \n",
       "2                     0.672   32        1  \n",
       "3                     0.167   21        0  \n",
       "4                     2.288   33        1  "
      ]
     },
     "execution_count": 1,
     "metadata": {},
     "output_type": "execute_result"
    }
   ],
   "source": [
    "# import the dataset  and the library pandas\n",
    "import pandas as pd \n",
    "\n",
    "#import the dataset\n",
    "diabetes = pd.read_csv('Healthcare-Diabetes.csv')\n",
    "\n",
    "#show the first 5 rows of the dataset\n",
    "diabetes.head()"
   ]
  },
  {
   "cell_type": "code",
   "execution_count": 2,
   "metadata": {},
   "outputs": [
    {
     "data": {
      "text/plain": [
       "(2768, 10)"
      ]
     },
     "execution_count": 2,
     "metadata": {},
     "output_type": "execute_result"
    }
   ],
   "source": [
    "# get the shape of the dataset\n",
    "diabetes.shape"
   ]
  },
  {
   "cell_type": "markdown",
   "metadata": {},
   "source": [
    "The dataset has 2768 rows and 10 columns"
   ]
  },
  {
   "cell_type": "code",
   "execution_count": 3,
   "metadata": {},
   "outputs": [
    {
     "name": "stdout",
     "output_type": "stream",
     "text": [
      "<class 'pandas.core.frame.DataFrame'>\n",
      "RangeIndex: 2768 entries, 0 to 2767\n",
      "Data columns (total 10 columns):\n",
      " #   Column                    Non-Null Count  Dtype  \n",
      "---  ------                    --------------  -----  \n",
      " 0   Id                        2768 non-null   int64  \n",
      " 1   Pregnancies               2768 non-null   int64  \n",
      " 2   Glucose                   2768 non-null   int64  \n",
      " 3   BloodPressure             2768 non-null   int64  \n",
      " 4   SkinThickness             2768 non-null   int64  \n",
      " 5   Insulin                   2768 non-null   int64  \n",
      " 6   BMI                       2768 non-null   float64\n",
      " 7   DiabetesPedigreeFunction  2768 non-null   float64\n",
      " 8   Age                       2768 non-null   int64  \n",
      " 9   Outcome                   2768 non-null   int64  \n",
      "dtypes: float64(2), int64(8)\n",
      "memory usage: 216.4 KB\n"
     ]
    }
   ],
   "source": [
    "#get the info about the dataset\n",
    "diabetes.info()"
   ]
  },
  {
   "cell_type": "markdown",
   "metadata": {},
   "source": [
    "The dataset consists of 10 columns which include: Id, pregnancies, glucose, bloodpressure, skinthickness, insulin, body mass index(BMI), diabetes pedigree function, age and outcome. These features will help us conclude if an individual has diabetes or not during modelling.\n",
    "\n",
    "The columns are all numerical with either data type integer or float with each of them having 2768 entries."
   ]
  },
  {
   "cell_type": "code",
   "execution_count": 4,
   "metadata": {},
   "outputs": [
    {
     "data": {
      "text/html": [
       "<div>\n",
       "<style scoped>\n",
       "    .dataframe tbody tr th:only-of-type {\n",
       "        vertical-align: middle;\n",
       "    }\n",
       "\n",
       "    .dataframe tbody tr th {\n",
       "        vertical-align: top;\n",
       "    }\n",
       "\n",
       "    .dataframe thead th {\n",
       "        text-align: right;\n",
       "    }\n",
       "</style>\n",
       "<table border=\"1\" class=\"dataframe\">\n",
       "  <thead>\n",
       "    <tr style=\"text-align: right;\">\n",
       "      <th></th>\n",
       "      <th>Id</th>\n",
       "      <th>Pregnancies</th>\n",
       "      <th>Glucose</th>\n",
       "      <th>BloodPressure</th>\n",
       "      <th>SkinThickness</th>\n",
       "      <th>Insulin</th>\n",
       "      <th>BMI</th>\n",
       "      <th>DiabetesPedigreeFunction</th>\n",
       "      <th>Age</th>\n",
       "      <th>Outcome</th>\n",
       "    </tr>\n",
       "  </thead>\n",
       "  <tbody>\n",
       "    <tr>\n",
       "      <th>count</th>\n",
       "      <td>2768.000000</td>\n",
       "      <td>2768.000000</td>\n",
       "      <td>2768.000000</td>\n",
       "      <td>2768.000000</td>\n",
       "      <td>2768.000000</td>\n",
       "      <td>2768.000000</td>\n",
       "      <td>2768.000000</td>\n",
       "      <td>2768.000000</td>\n",
       "      <td>2768.000000</td>\n",
       "      <td>2768.000000</td>\n",
       "    </tr>\n",
       "    <tr>\n",
       "      <th>mean</th>\n",
       "      <td>1384.500000</td>\n",
       "      <td>3.742775</td>\n",
       "      <td>121.102601</td>\n",
       "      <td>69.134393</td>\n",
       "      <td>20.824422</td>\n",
       "      <td>80.127890</td>\n",
       "      <td>32.137392</td>\n",
       "      <td>0.471193</td>\n",
       "      <td>33.132225</td>\n",
       "      <td>0.343931</td>\n",
       "    </tr>\n",
       "    <tr>\n",
       "      <th>std</th>\n",
       "      <td>799.197097</td>\n",
       "      <td>3.323801</td>\n",
       "      <td>32.036508</td>\n",
       "      <td>19.231438</td>\n",
       "      <td>16.059596</td>\n",
       "      <td>112.301933</td>\n",
       "      <td>8.076127</td>\n",
       "      <td>0.325669</td>\n",
       "      <td>11.777230</td>\n",
       "      <td>0.475104</td>\n",
       "    </tr>\n",
       "    <tr>\n",
       "      <th>min</th>\n",
       "      <td>1.000000</td>\n",
       "      <td>0.000000</td>\n",
       "      <td>0.000000</td>\n",
       "      <td>0.000000</td>\n",
       "      <td>0.000000</td>\n",
       "      <td>0.000000</td>\n",
       "      <td>0.000000</td>\n",
       "      <td>0.078000</td>\n",
       "      <td>21.000000</td>\n",
       "      <td>0.000000</td>\n",
       "    </tr>\n",
       "    <tr>\n",
       "      <th>25%</th>\n",
       "      <td>692.750000</td>\n",
       "      <td>1.000000</td>\n",
       "      <td>99.000000</td>\n",
       "      <td>62.000000</td>\n",
       "      <td>0.000000</td>\n",
       "      <td>0.000000</td>\n",
       "      <td>27.300000</td>\n",
       "      <td>0.244000</td>\n",
       "      <td>24.000000</td>\n",
       "      <td>0.000000</td>\n",
       "    </tr>\n",
       "    <tr>\n",
       "      <th>50%</th>\n",
       "      <td>1384.500000</td>\n",
       "      <td>3.000000</td>\n",
       "      <td>117.000000</td>\n",
       "      <td>72.000000</td>\n",
       "      <td>23.000000</td>\n",
       "      <td>37.000000</td>\n",
       "      <td>32.200000</td>\n",
       "      <td>0.375000</td>\n",
       "      <td>29.000000</td>\n",
       "      <td>0.000000</td>\n",
       "    </tr>\n",
       "    <tr>\n",
       "      <th>75%</th>\n",
       "      <td>2076.250000</td>\n",
       "      <td>6.000000</td>\n",
       "      <td>141.000000</td>\n",
       "      <td>80.000000</td>\n",
       "      <td>32.000000</td>\n",
       "      <td>130.000000</td>\n",
       "      <td>36.625000</td>\n",
       "      <td>0.624000</td>\n",
       "      <td>40.000000</td>\n",
       "      <td>1.000000</td>\n",
       "    </tr>\n",
       "    <tr>\n",
       "      <th>max</th>\n",
       "      <td>2768.000000</td>\n",
       "      <td>17.000000</td>\n",
       "      <td>199.000000</td>\n",
       "      <td>122.000000</td>\n",
       "      <td>110.000000</td>\n",
       "      <td>846.000000</td>\n",
       "      <td>80.600000</td>\n",
       "      <td>2.420000</td>\n",
       "      <td>81.000000</td>\n",
       "      <td>1.000000</td>\n",
       "    </tr>\n",
       "  </tbody>\n",
       "</table>\n",
       "</div>"
      ],
      "text/plain": [
       "                Id  Pregnancies      Glucose  BloodPressure  SkinThickness  \\\n",
       "count  2768.000000  2768.000000  2768.000000    2768.000000    2768.000000   \n",
       "mean   1384.500000     3.742775   121.102601      69.134393      20.824422   \n",
       "std     799.197097     3.323801    32.036508      19.231438      16.059596   \n",
       "min       1.000000     0.000000     0.000000       0.000000       0.000000   \n",
       "25%     692.750000     1.000000    99.000000      62.000000       0.000000   \n",
       "50%    1384.500000     3.000000   117.000000      72.000000      23.000000   \n",
       "75%    2076.250000     6.000000   141.000000      80.000000      32.000000   \n",
       "max    2768.000000    17.000000   199.000000     122.000000     110.000000   \n",
       "\n",
       "           Insulin          BMI  DiabetesPedigreeFunction          Age  \\\n",
       "count  2768.000000  2768.000000               2768.000000  2768.000000   \n",
       "mean     80.127890    32.137392                  0.471193    33.132225   \n",
       "std     112.301933     8.076127                  0.325669    11.777230   \n",
       "min       0.000000     0.000000                  0.078000    21.000000   \n",
       "25%       0.000000    27.300000                  0.244000    24.000000   \n",
       "50%      37.000000    32.200000                  0.375000    29.000000   \n",
       "75%     130.000000    36.625000                  0.624000    40.000000   \n",
       "max     846.000000    80.600000                  2.420000    81.000000   \n",
       "\n",
       "           Outcome  \n",
       "count  2768.000000  \n",
       "mean      0.343931  \n",
       "std       0.475104  \n",
       "min       0.000000  \n",
       "25%       0.000000  \n",
       "50%       0.000000  \n",
       "75%       1.000000  \n",
       "max       1.000000  "
      ]
     },
     "execution_count": 4,
     "metadata": {},
     "output_type": "execute_result"
    }
   ],
   "source": [
    "#to get the descriptive statistics\n",
    "diabetes.describe()"
   ]
  },
  {
   "cell_type": "markdown",
   "metadata": {},
   "source": [
    "### Justification for feature inclusion"
   ]
  },
  {
   "cell_type": "markdown",
   "metadata": {},
   "source": [
    "From the healthcare dataset the features include:\n",
    "\n",
    "1. Id - a unique way of identifying different patients in the hospital as different patients have different aspects.\n",
    "\n",
    "2. Pregnancies - this is our predictor variable that allows us to determine mothers who have already existing diabetes based on their number of pregnancies they have had before and compare with mothers who do not have diabetes also based on their previous pregnancies.\n",
    "\n",
    "3. Glucose - this is an important feature and our predictor variable, in determining diabetes as the level of glucose in a person determines if there is possibility of diabetes developing or not. This is because high level of glucose above average in the body may lead to type 2 diabetes developing or gestational diabetes during pregnancy.\n",
    "\n",
    "4. Blood pressure -This is a predictor variable this that is used to determine hypertension or high blood pressure in individuls as people with diabetes are often associated with a high risk of developing hypertension. High blood pressure may be sometimes an indication of a diabetic person.\n",
    "\n",
    "5. Skin thickness - this feature(predictor variable) is used as symptom of indicating a diabetic person as they experience skin changes such as thickening of the skin in certain areas such as the neck and armpits this depends on the level of thickness.\n",
    "\n",
    "6. Insulin - this feature(predictor variable) allows us to determine presence of diabetes as decrease of insulin on the body below average can lead to development of type 1 diabetes. This feature allows us to target individuals likely to develop diabetes based on the level of insulin.\n",
    "\n",
    "7. Body mass index - this feature(predictor variable) allows us to identify individuals who are overweight and are at risk of developing diabetes based on their weight.\n",
    "\n",
    "8. Diabetes pedigree function - this feature and predictor variable is important as it is an estimate that is used to estimate an individual risk of developing diabetes based on genetics. DPF between 1-2 shows the individual is at moderate risk of developing diabetes while below 1 shows the individual is at low risk of developing diabetes.\n",
    "\n",
    "9. Age - this is a feature(predictor variable) that is used to determine presence of diabetes, as people get older their bodies tend to become less sensitive to insulin. Another reason is that muscle mass often decreases and impact how the body processes glucose.\n",
    "\n",
    "10. Outcome - this is our target variable that shows us with individuals has a possibility of developing diabetes based on the predictor variables and which individuals do not have diabetes based on the predictor variables. Indicated by 0s and 1s as it is binary.\n",
    "\n"
   ]
  },
  {
   "cell_type": "markdown",
   "metadata": {},
   "source": [
    "### Limitations\n",
    "\n",
    "1. Missing values - me features may contain missing values that may affect the analysis of the data.\n",
    "\n",
    "2. NAN values - Some key features in the dataset may contain NAN values that might reduce the accuracy of the analysis and may cause errors during analysis if not acted upon.\n",
    "\n",
    "3. Null values.\n",
    "\n",
    "4. Duplicated values.\n",
    "\n",
    "5. Imbalanced values in terms of distribution for the target and independent variables.\n",
    " "
   ]
  },
  {
   "cell_type": "markdown",
   "metadata": {},
   "source": [
    "## Data Preparation\n",
    "\n",
    "Data preparation is an essential part before modelling. It is essential as it makes it easy for us to model the dataset.\n",
    "In this section will perform different ways of data preparation which include:\n",
    "1. Data cleaning - cleaning of a dataset is very crucial to maintain accuracy as it removes errors and inconsistencies that may cause issues during analysis.\n",
    "Data cleaning includes:\n",
    "    1. Handling missing values.\n",
    "    2. Handling NAN values.\n",
    "    3. Handling duplicate values.\n",
    " \n",
    "\n",
    "2. Feature selection - This enables us to split the dataset into a training set and a testing set. The training set is used for modeling the dataset, while testing set is used for evaluating the model to see it can be used on new or unseen data.\n",
    "\n",
    "3. Scaling the values - scaling values in a dataset is essential as it enables modelling of the dataset to be easier and ensures all features are normally distributed.\n",
    " \n",
    "4. Check for class imbalances - checking for class imbalances allows us to check for classes that are more biased to the other as imbalance data is disadvantageous in predicting the minority class."
   ]
  },
  {
   "cell_type": "markdown",
   "metadata": {},
   "source": [
    "### Data cleaning\n",
    "#### Handling missing values \n",
    "In data preparation we handle missing values to maintain the integrity of our data, accuracy to ensure our data is not biased and consistency to make it easier for analysis.\n",
    "\n",
    "In this subsection, missing values will be handled by:\n",
    "- Identifying the number of missing values in each column of the dataset"
   ]
  },
  {
   "cell_type": "code",
   "execution_count": 6,
   "metadata": {},
   "outputs": [],
   "source": [
    "import numpy as np"
   ]
  },
  {
   "cell_type": "code",
   "execution_count": 8,
   "metadata": {},
   "outputs": [
    {
     "data": {
      "text/plain": [
       "Id                          0\n",
       "Pregnancies                 0\n",
       "Glucose                     0\n",
       "BloodPressure               0\n",
       "SkinThickness               0\n",
       "Insulin                     0\n",
       "BMI                         0\n",
       "DiabetesPedigreeFunction    0\n",
       "Age                         0\n",
       "Outcome                     0\n",
       "dtype: int64"
      ]
     },
     "execution_count": 8,
     "metadata": {},
     "output_type": "execute_result"
    }
   ],
   "source": [
    "#identifying missing values\n",
    "diabetes.isnull().sum()\n"
   ]
  },
  {
   "cell_type": "markdown",
   "metadata": {},
   "source": [
    "The outcome shows that our dataset has no missing values"
   ]
  },
  {
   "cell_type": "markdown",
   "metadata": {},
   "source": [
    "#### Handling NAN values.\n",
    "\n",
    "It is important to handle NAN values they reduce data quality indicating missing values, affect statistical analysis such as mean and standard deviation which is important during the analysis stage of this project.\n",
    "\n",
    "It also affects visualization which is an important aspect of this project as they lead to misleading and incomplete visualizations.\n",
    "\n",
    "The NAN values will be handled by:\n",
    "- Calculating the percentage of NAN values for each column in the dataset."
   ]
  },
  {
   "cell_type": "markdown",
   "metadata": {},
   "source": [
    "#### Calculating the percentage of NAN values for each column in the dataset "
   ]
  },
  {
   "cell_type": "code",
   "execution_count": 9,
   "metadata": {},
   "outputs": [
    {
     "name": "stdout",
     "output_type": "stream",
     "text": [
      "Id                          0.0\n",
      "Pregnancies                 0.0\n",
      "Glucose                     0.0\n",
      "BloodPressure               0.0\n",
      "SkinThickness               0.0\n",
      "Insulin                     0.0\n",
      "BMI                         0.0\n",
      "DiabetesPedigreeFunction    0.0\n",
      "Age                         0.0\n",
      "Outcome                     0.0\n",
      "dtype: float64\n"
     ]
    }
   ],
   "source": [
    "#calculate the percentage of NAN values for each column\n",
    "rows = len(diabetes)\n",
    "missing = diabetes.isna().sum()\n",
    "percentage_missing = missing / rows\n",
    "\n",
    "print(percentage_missing)"
   ]
  },
  {
   "cell_type": "markdown",
   "metadata": {},
   "source": [
    "The outcome shows that the dataset has no NAN values"
   ]
  },
  {
   "cell_type": "markdown",
   "metadata": {},
   "source": [
    "#### Handling Duplicated values\n",
    "\n",
    "We handle duplicated values to maintain accuracy during analysis especially during statistical analysis of means, variances and standard deviation.\n",
    "\n",
    "We also handle duplicates to maintain data consistency and integrity."
   ]
  },
  {
   "cell_type": "code",
   "execution_count": 10,
   "metadata": {},
   "outputs": [
    {
     "data": {
      "text/html": [
       "<div>\n",
       "<style scoped>\n",
       "    .dataframe tbody tr th:only-of-type {\n",
       "        vertical-align: middle;\n",
       "    }\n",
       "\n",
       "    .dataframe tbody tr th {\n",
       "        vertical-align: top;\n",
       "    }\n",
       "\n",
       "    .dataframe thead th {\n",
       "        text-align: right;\n",
       "    }\n",
       "</style>\n",
       "<table border=\"1\" class=\"dataframe\">\n",
       "  <thead>\n",
       "    <tr style=\"text-align: right;\">\n",
       "      <th></th>\n",
       "      <th>Id</th>\n",
       "      <th>Pregnancies</th>\n",
       "      <th>Glucose</th>\n",
       "      <th>BloodPressure</th>\n",
       "      <th>SkinThickness</th>\n",
       "      <th>Insulin</th>\n",
       "      <th>BMI</th>\n",
       "      <th>DiabetesPedigreeFunction</th>\n",
       "      <th>Age</th>\n",
       "      <th>Outcome</th>\n",
       "    </tr>\n",
       "  </thead>\n",
       "  <tbody>\n",
       "  </tbody>\n",
       "</table>\n",
       "</div>"
      ],
      "text/plain": [
       "Empty DataFrame\n",
       "Columns: [Id, Pregnancies, Glucose, BloodPressure, SkinThickness, Insulin, BMI, DiabetesPedigreeFunction, Age, Outcome]\n",
       "Index: []"
      ]
     },
     "execution_count": 10,
     "metadata": {},
     "output_type": "execute_result"
    }
   ],
   "source": [
    "#Checking for duplicated values\n",
    "duplicate = diabetes[diabetes.duplicated()]\n",
    "\n",
    "duplicate"
   ]
  },
  {
   "cell_type": "markdown",
   "metadata": {},
   "source": [
    "The outcome shows that the dataset has no duplicated values "
   ]
  },
  {
   "cell_type": "markdown",
   "metadata": {},
   "source": [
    "### Feature Selection\n",
    "Under feature selection will shall be splitting the dataset into training sets and test sets.\n",
    "The training set will be used for modellinga and the test sets will be used for evaluation of the model to see if it can work on new or unseen data."
   ]
  },
  {
   "cell_type": "code",
   "execution_count": 11,
   "metadata": {},
   "outputs": [],
   "source": [
    "#import train test split from sklearn  to be used for feature selection\n",
    "from sklearn.model_selection import train_test_split\n",
    "\n",
    "# initialize the predictor variables and the target variables \n",
    "y = diabetes['Outcome'] # target variable\n",
    "X = diabetes.drop('Outcome', axis=1) # precictor variables\n",
    "\n",
    "#split the data into train and test sets with the test size of 25% and a random state of 42\n",
    "\n",
    "X_train, X_test, y_train, y_test = train_test_split(X, y, test_size=0.25, random_state=42)\n",
    "\n"
   ]
  },
  {
   "cell_type": "code",
   "execution_count": 12,
   "metadata": {},
   "outputs": [
    {
     "data": {
      "text/html": [
       "<div>\n",
       "<style scoped>\n",
       "    .dataframe tbody tr th:only-of-type {\n",
       "        vertical-align: middle;\n",
       "    }\n",
       "\n",
       "    .dataframe tbody tr th {\n",
       "        vertical-align: top;\n",
       "    }\n",
       "\n",
       "    .dataframe thead th {\n",
       "        text-align: right;\n",
       "    }\n",
       "</style>\n",
       "<table border=\"1\" class=\"dataframe\">\n",
       "  <thead>\n",
       "    <tr style=\"text-align: right;\">\n",
       "      <th></th>\n",
       "      <th>Id</th>\n",
       "      <th>Pregnancies</th>\n",
       "      <th>Glucose</th>\n",
       "      <th>BloodPressure</th>\n",
       "      <th>SkinThickness</th>\n",
       "      <th>Insulin</th>\n",
       "      <th>BMI</th>\n",
       "      <th>DiabetesPedigreeFunction</th>\n",
       "      <th>Age</th>\n",
       "    </tr>\n",
       "  </thead>\n",
       "  <tbody>\n",
       "    <tr>\n",
       "      <th>1584</th>\n",
       "      <td>1585</td>\n",
       "      <td>1</td>\n",
       "      <td>139</td>\n",
       "      <td>46</td>\n",
       "      <td>19</td>\n",
       "      <td>83</td>\n",
       "      <td>28.7</td>\n",
       "      <td>0.654</td>\n",
       "      <td>22</td>\n",
       "    </tr>\n",
       "    <tr>\n",
       "      <th>1800</th>\n",
       "      <td>1801</td>\n",
       "      <td>1</td>\n",
       "      <td>119</td>\n",
       "      <td>44</td>\n",
       "      <td>47</td>\n",
       "      <td>63</td>\n",
       "      <td>35.5</td>\n",
       "      <td>0.280</td>\n",
       "      <td>25</td>\n",
       "    </tr>\n",
       "    <tr>\n",
       "      <th>2429</th>\n",
       "      <td>2430</td>\n",
       "      <td>8</td>\n",
       "      <td>197</td>\n",
       "      <td>74</td>\n",
       "      <td>0</td>\n",
       "      <td>0</td>\n",
       "      <td>25.9</td>\n",
       "      <td>1.191</td>\n",
       "      <td>39</td>\n",
       "    </tr>\n",
       "    <tr>\n",
       "      <th>1706</th>\n",
       "      <td>1707</td>\n",
       "      <td>8</td>\n",
       "      <td>120</td>\n",
       "      <td>0</td>\n",
       "      <td>0</td>\n",
       "      <td>0</td>\n",
       "      <td>30.0</td>\n",
       "      <td>0.183</td>\n",
       "      <td>38</td>\n",
       "    </tr>\n",
       "    <tr>\n",
       "      <th>1027</th>\n",
       "      <td>1028</td>\n",
       "      <td>11</td>\n",
       "      <td>155</td>\n",
       "      <td>76</td>\n",
       "      <td>28</td>\n",
       "      <td>150</td>\n",
       "      <td>33.3</td>\n",
       "      <td>1.353</td>\n",
       "      <td>51</td>\n",
       "    </tr>\n",
       "    <tr>\n",
       "      <th>...</th>\n",
       "      <td>...</td>\n",
       "      <td>...</td>\n",
       "      <td>...</td>\n",
       "      <td>...</td>\n",
       "      <td>...</td>\n",
       "      <td>...</td>\n",
       "      <td>...</td>\n",
       "      <td>...</td>\n",
       "      <td>...</td>\n",
       "    </tr>\n",
       "    <tr>\n",
       "      <th>1638</th>\n",
       "      <td>1639</td>\n",
       "      <td>4</td>\n",
       "      <td>95</td>\n",
       "      <td>64</td>\n",
       "      <td>0</td>\n",
       "      <td>0</td>\n",
       "      <td>32.0</td>\n",
       "      <td>0.161</td>\n",
       "      <td>31</td>\n",
       "    </tr>\n",
       "    <tr>\n",
       "      <th>1095</th>\n",
       "      <td>1096</td>\n",
       "      <td>10</td>\n",
       "      <td>179</td>\n",
       "      <td>70</td>\n",
       "      <td>0</td>\n",
       "      <td>0</td>\n",
       "      <td>35.1</td>\n",
       "      <td>0.200</td>\n",
       "      <td>37</td>\n",
       "    </tr>\n",
       "    <tr>\n",
       "      <th>1130</th>\n",
       "      <td>1131</td>\n",
       "      <td>5</td>\n",
       "      <td>103</td>\n",
       "      <td>108</td>\n",
       "      <td>37</td>\n",
       "      <td>0</td>\n",
       "      <td>39.2</td>\n",
       "      <td>0.305</td>\n",
       "      <td>65</td>\n",
       "    </tr>\n",
       "    <tr>\n",
       "      <th>1294</th>\n",
       "      <td>1295</td>\n",
       "      <td>1</td>\n",
       "      <td>97</td>\n",
       "      <td>64</td>\n",
       "      <td>19</td>\n",
       "      <td>82</td>\n",
       "      <td>18.2</td>\n",
       "      <td>0.299</td>\n",
       "      <td>21</td>\n",
       "    </tr>\n",
       "    <tr>\n",
       "      <th>860</th>\n",
       "      <td>861</td>\n",
       "      <td>7</td>\n",
       "      <td>81</td>\n",
       "      <td>78</td>\n",
       "      <td>40</td>\n",
       "      <td>48</td>\n",
       "      <td>46.7</td>\n",
       "      <td>0.261</td>\n",
       "      <td>42</td>\n",
       "    </tr>\n",
       "  </tbody>\n",
       "</table>\n",
       "<p>2076 rows × 9 columns</p>\n",
       "</div>"
      ],
      "text/plain": [
       "        Id  Pregnancies  Glucose  BloodPressure  SkinThickness  Insulin   BMI  \\\n",
       "1584  1585            1      139             46             19       83  28.7   \n",
       "1800  1801            1      119             44             47       63  35.5   \n",
       "2429  2430            8      197             74              0        0  25.9   \n",
       "1706  1707            8      120              0              0        0  30.0   \n",
       "1027  1028           11      155             76             28      150  33.3   \n",
       "...    ...          ...      ...            ...            ...      ...   ...   \n",
       "1638  1639            4       95             64              0        0  32.0   \n",
       "1095  1096           10      179             70              0        0  35.1   \n",
       "1130  1131            5      103            108             37        0  39.2   \n",
       "1294  1295            1       97             64             19       82  18.2   \n",
       "860    861            7       81             78             40       48  46.7   \n",
       "\n",
       "      DiabetesPedigreeFunction  Age  \n",
       "1584                     0.654   22  \n",
       "1800                     0.280   25  \n",
       "2429                     1.191   39  \n",
       "1706                     0.183   38  \n",
       "1027                     1.353   51  \n",
       "...                        ...  ...  \n",
       "1638                     0.161   31  \n",
       "1095                     0.200   37  \n",
       "1130                     0.305   65  \n",
       "1294                     0.299   21  \n",
       "860                      0.261   42  \n",
       "\n",
       "[2076 rows x 9 columns]"
      ]
     },
     "execution_count": 12,
     "metadata": {},
     "output_type": "execute_result"
    }
   ],
   "source": [
    "#Check for the predictor variables that will be used for modelling\n",
    "X_train"
   ]
  },
  {
   "cell_type": "code",
   "execution_count": 13,
   "metadata": {},
   "outputs": [
    {
     "data": {
      "text/plain": [
       "1584    0\n",
       "1800    0\n",
       "2429    1\n",
       "1706    1\n",
       "1027    1\n",
       "       ..\n",
       "1638    1\n",
       "1095    0\n",
       "1130    0\n",
       "1294    0\n",
       "860     0\n",
       "Name: Outcome, Length: 2076, dtype: int64"
      ]
     },
     "execution_count": 13,
     "metadata": {},
     "output_type": "execute_result"
    }
   ],
   "source": [
    "#check for the target variable that will be predicted from the predictor variables\n",
    "y_train"
   ]
  },
  {
   "cell_type": "markdown",
   "metadata": {},
   "source": [
    "The same thing is applied to the test set and results will be the same "
   ]
  },
  {
   "cell_type": "markdown",
   "metadata": {},
   "source": [
    "#### Scaling Values\n",
    "Scaling values in a dataset it is essential as it enables modelling of the dataset to be easier and ensures all features are normally distributed.\n"
   ]
  },
  {
   "cell_type": "code",
   "execution_count": 15,
   "metadata": {},
   "outputs": [],
   "source": [
    "#import standard scaler from sklearn preprocessing\n",
    "from sklearn.preprocessing import StandardScaler"
   ]
  },
  {
   "cell_type": "code",
   "execution_count": 16,
   "metadata": {},
   "outputs": [],
   "source": [
    "#Scaling features\n",
    "scaler = StandardScaler()\n",
    "\n",
    "#scaling, fitting, transform features of the training and test sets\n",
    "X_train_scaled = scaler.fit_transform(X_train)\n",
    "X_test_scaled = scaler.fit(X_test)"
   ]
  },
  {
   "cell_type": "code",
   "execution_count": 17,
   "metadata": {},
   "outputs": [
    {
     "data": {
      "text/plain": [
       "array([[ 0.25742633, -0.83408167,  0.5488297 , ..., -0.4134059 ,\n",
       "         0.55377283, -0.95347635],\n",
       "       [ 0.52915102, -0.83408167, -0.07468   , ...,  0.43383553,\n",
       "        -0.59249432, -0.70053727],\n",
       "       [ 1.32042339,  1.26331836,  2.35700784, ..., -0.76227001,\n",
       "         2.1996163 ,  0.47984509],\n",
       "       ...,\n",
       "       [-0.31369872,  0.36443264, -0.57348777, ...,  0.89483453,\n",
       "        -0.51587218,  2.67198376],\n",
       "       [-0.10738923, -0.83408167, -0.76054068, ..., -1.72164633,\n",
       "        -0.5342615 , -1.03778938],\n",
       "       [-0.65335459,  0.96368979, -1.25934844, ...,  1.82929199,\n",
       "        -0.65072714,  0.73278416]])"
      ]
     },
     "execution_count": 17,
     "metadata": {},
     "output_type": "execute_result"
    }
   ],
   "source": [
    "# training set after scaling\n",
    "X_train_scaled"
   ]
  },
  {
   "cell_type": "code",
   "execution_count": 18,
   "metadata": {},
   "outputs": [
    {
     "data": {
      "text/plain": [
       "StandardScaler()"
      ]
     },
     "execution_count": 18,
     "metadata": {},
     "output_type": "execute_result"
    }
   ],
   "source": [
    "#testing set after scaling\n",
    "X_test_scaled"
   ]
  }
 ],
 "metadata": {
  "kernelspec": {
   "display_name": "Python (learn-env)",
   "language": "python",
   "name": "learn-env"
  },
  "language_info": {
   "codemirror_mode": {
    "name": "ipython",
    "version": 3
   },
   "file_extension": ".py",
   "mimetype": "text/x-python",
   "name": "python",
   "nbconvert_exporter": "python",
   "pygments_lexer": "ipython3",
   "version": "3.8.5"
  }
 },
 "nbformat": 4,
 "nbformat_minor": 2
}
